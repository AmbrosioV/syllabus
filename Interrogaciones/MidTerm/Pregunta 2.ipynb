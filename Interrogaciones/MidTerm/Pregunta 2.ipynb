{
 "cells": [
  {
   "cell_type": "markdown",
   "metadata": {},
   "source": [
    "## Pregunta 2"
   ]
  },
  {
   "cell_type": "markdown",
   "metadata": {},
   "source": [
    "### a)\n",
    "\n",
    "Implemente una metaclase llamada `Colecta`, que asegure que las clases que se crean tienen un método que retorna todas las instancias de ella. Por ejemplo, un programador implementa una clase llamada `MiClase(metaclass=Colecta)`, `MiClase` automáticamente tendrá un método llamado `colecta` que retorna una lista con todas las instancias de `MiClase`.\n"
   ]
  },
  {
   "cell_type": "code",
   "execution_count": 1,
   "metadata": {
    "collapsed": true
   },
   "outputs": [],
   "source": [
    "class Colecta(type):\n",
    "\n",
    "    def __new__(mcs, name, bases, attrs):\n",
    "        # Añado el atributo de clase que almacenará las instancias.\n",
    "        attrs['instances'] = list()\n",
    "        # Añado el metodo de clase que retornará la instancias.\n",
    "        @classmethod\n",
    "        def colecta(cls):\n",
    "            return cls.instances\n",
    "        attrs['colecta'] = colecta\n",
    "        return super().__new__(mcs, name, bases, attrs)\n",
    "\n",
    "    def __call__(cls, *args, **kwargs):\n",
    "        instance = super().__call__(*args, **kwargs)\n",
    "        cls.instances.append(instance)\n",
    "        return instance\n"
   ]
  },
  {
   "cell_type": "markdown",
   "metadata": {},
   "source": [
    "#### Distribución de puntaje:\n",
    "\n",
    "| **Punto** | **Requerimiento** | **Puntaje** |\n",
    "| --------- | ----------------- | ----------- |\n",
    "| A | Creación de la metaclase mediante la herencia a `type`. | **1 pto** |\n",
    "| B | Intervención ÚTIL en la creación de la clase mediante el método `__new__` o `__init__`. | **3 pts** |\n",
    "| C | Añadido método `colecta` (*No es necesario que el método se llame `colecta`*). | **2 pts** |\n",
    "| D | Añadida estructura de datos en donde almacenar las instancias. | **2 pts** |\n",
    "| E | Intervención ÚTIL en la creación de la instancia mediante el método `__call__`. |** 3 pts** |\n",
    "| F | Correcto almacenamiento de las instancias. | **4 pts** |\n",
    "|  | **Total** | **15** |\n",
    "\n",
    "**Notas**:\n",
    "\n",
    "*Si la estructura de datos se encuentra compartida por todas las clases que utilicen a `Colecta` como metaclase solo se les otorgará la mitad del puntaje en D.*"
   ]
  },
  {
   "cell_type": "markdown",
   "metadata": {},
   "source": [
    "### b)\n",
    "\n",
    "Un *Trie* es una estructura tipo árbol que permite almacenar palabras. Cada nodo contiene una letra, las palabras se van almacenando desde la raíz hacia las hojas. Una de sus utilidades es que palabras que tengan intersecciones (subpalabras que coinciden) usan la misma secuencia de nodos.\n",
    "\n",
    "Escriba un código en Python que permita crear un *Trie* y además agregarle palabras."
   ]
  },
  {
   "cell_type": "code",
   "execution_count": 2,
   "metadata": {
    "collapsed": false
   },
   "outputs": [],
   "source": [
    "class Node:\n",
    "\n",
    "    def __init__(self, letter):\n",
    "        self.value = letter\n",
    "        self.children = dict()\n",
    "\n",
    "    def append(self, node):\n",
    "        self.children[node.value] = node\n",
    "    \n",
    "    def get(self, letter):\n",
    "        if letter in self.children:\n",
    "            return self.children[letter]\n",
    "\n",
    "\n",
    "class Trie:\n",
    "    \n",
    "    def __init__(self):\n",
    "        # Creo la raíz.\n",
    "        self.root = Node('')\n",
    "\n",
    "    def append(self, word):\n",
    "        # Inicio desde la raíz.\n",
    "        current_node = self.root\n",
    "        for letter in word:\n",
    "            # Consigo el nodo correspondiente a la letra actual.\n",
    "            letter_node = current_node.get(letter)\n",
    "            # Si resulta que ese nodo no existe, lo creo.\n",
    "            if letter_node is None:\n",
    "                letter_node = Node(letter)\n",
    "                current_node.append(letter_node)\n",
    "            # Ahora mi nodo actual pasa a ser el nodo encontrado/nuevo.\n",
    "            current_node = letter_node\n"
   ]
  },
  {
   "cell_type": "markdown",
   "metadata": {
    "collapsed": true
   },
   "source": [
    "#### Distribución de puntaje:\n",
    "\n",
    "| **Punto** | **Requerimiento** | **Puntaje** |\n",
    "| --------- | ----------------- | ----------- |\n",
    "| A | Correcta modelación del problema. | **3 pts** |\n",
    "| B | Inserción de palabras palabras al `Trie`. | **4 pts** |\n",
    "| C | Existe un nodo raíz y todas las palabras nacen a partir de él. |** 3 pts**|\n",
    "| D | Las palabras con intersecciones usan la misma secuencia de nodos. | **5 pts** |\n",
    "|  | **Total** | **15** |\n",
    "\n",
    "**Notas**:\n",
    "\n",
    "*El punto B depende mucho del punto A, es decir, si el alumno decidió modelar el problema como un arbol binario (para dar un ejemplo) no se le puede otorgar puntos por inserción de palabras, ya que fue una inserción en un arbol que no satisface lo pedido por el enunciado.*\n",
    "\n",
    "*Los puntos C y D dependen mucho del punto B, es decir, no se darán puntos en C y D si la inserción de palabras no se consiguió. **En general** se considerará como una inserción de palabras exitosa si el puntaje otorgado en B es mayor o igual a 3 puntos.*\n",
    "\n",
    "*Cuando se pide la existencia de un nodo raíz, se permite que su existencia no sea explícita.*"
   ]
  },
  {
   "cell_type": "code",
   "execution_count": null,
   "metadata": {
    "collapsed": true
   },
   "outputs": [],
   "source": []
  }
 ],
 "metadata": {
  "kernelspec": {
   "display_name": "Python 3",
   "language": "python",
   "name": "python3"
  },
  "language_info": {
   "codemirror_mode": {
    "name": "ipython",
    "version": 3
   },
   "file_extension": ".py",
   "mimetype": "text/x-python",
   "name": "python",
   "nbconvert_exporter": "python",
   "pygments_lexer": "ipython3",
   "version": "3.4.3"
  }
 },
 "nbformat": 4,
 "nbformat_minor": 0
}
