{
 "cells": [
  {
   "cell_type": "markdown",
   "metadata": {},
   "source": [
    "# Pregunta 4"
   ]
  },
  {
   "cell_type": "markdown",
   "metadata": {},
   "source": [
    "## a) Escriba el output del siguiente código. **Justifique** su respuesta."
   ]
  },
  {
   "cell_type": "code",
   "execution_count": 3,
   "metadata": {
    "collapsed": false
   },
   "outputs": [
    {
     "name": "stdout",
     "output_type": "stream",
     "text": [
      "chile with password champion\n",
      "chile with password champion\n"
     ]
    }
   ],
   "source": [
    "class Usuario:\n",
    "    \n",
    "    def __init__(self, username, password):\n",
    "        self.username = username\n",
    "        self.password = password\n",
    "        \n",
    "    def __str__(self):\n",
    "        return \"{} with password {}\".format(self.username, self.password)\n",
    "\n",
    "usernames = ['leo', 'gonzalo', 'chile']\n",
    "passwords = ['delicious', 'cometa', 'champion']\n",
    "\n",
    "usuarios = {Usuario(u, p) for u, p in zip(usernames, passwords)}\n",
    "usuarios = usuarios.union({Usuario(u, p) for u, p in zip(usernames, passwords)})\n",
    "usuarios = list(filter(lambda x: x.username == 'chile', usuarios))\n",
    "print(*usuarios, sep='\\n')"
   ]
  },
  {
   "cell_type": "markdown",
   "metadata": {},
   "source": [
    "### Distribución de puntaje:\n",
    "\n",
    "| **Punto** | **Requerimiento** | **Puntaje** |\n",
    "| --------- | ----------------- | ----------- |\n",
    "| A | Comprende cómo construir un conjunto por comprensión. | **1 pto** |\n",
    "| B | Comprende cómo funciona el método `union`. | **1 pto** |\n",
    "| C | Comprende que los segundos objetos creados son distintos a los primeros. | **1 pto** |\n",
    "| D | Encuentra el output correcto. | **2 pts** |\n",
    "|  | **Total** | **5 pts** |\n",
    "\n",
    "**Nota**:\n",
    "\n",
    "Si el alumno no cumple con el punto **C** y solo encuentro uno de los dos outputs que se esperaban, **D** recibirá la mitad del puntaje."
   ]
  },
  {
   "cell_type": "markdown",
   "metadata": {},
   "source": [
    "## b) Escriba el output del siguiente código. **Justifique** su respuesta."
   ]
  },
  {
   "cell_type": "code",
   "execution_count": 1,
   "metadata": {
    "collapsed": false
   },
   "outputs": [
    {
     "name": "stdout",
     "output_type": "stream",
     "text": [
      "2\n",
      "1\n",
      "1\n",
      "1\n",
      "Paraguay\n",
      "USA\n",
      "Argentina\n",
      "Chile\n"
     ]
    }
   ],
   "source": [
    "from collections import defaultdict\n",
    "\n",
    "results = defaultdict(lambda: 1, {'Chile': 2, 'Colombia': 0})\n",
    "print(results['Chile'])\n",
    "print(results['Argentina'])\n",
    "print(results['USA'])\n",
    "print(results['Paraguay'])\n",
    "del results['Colombia']\n",
    "print(*results.keys(), sep='\\n')"
   ]
  },
  {
   "cell_type": "markdown",
   "metadata": {
    "collapsed": true
   },
   "source": [
    "#### Distribución de puntaje:\n",
    "\n",
    "| **Punto** | **Requerimiento** | **Puntaje** |\n",
    "| --------- | ----------------- | ----------- |\n",
    "| A | Comprende cómo funciona la estructura de datos `defaultdict`. | **0.5 pto** |\n",
    "| B | Comprende cómo funciona la instrucción `del`. | **0.5 pts** |\n",
    "| C | Encuentra el output correcto. | **1.5 pts** |\n",
    "|  | **Total** | **2.5 pts** |"
   ]
  },
  {
   "cell_type": "markdown",
   "metadata": {},
   "source": [
    "## c)\n",
    "\n",
    "En un sistema de tracking de tareas se tiene una lista de empleados. Cada empleado tiene un nombre y una lista de tareas asignadas. Asimismo, cada tarea tiene un nombre y una lista de reportes de tiempo que ese empleado hizo para esa tarea. Finalmente, cada reporte tiene una fecha y el tiempo reportado (en horas). Calcules usando sólo funciones `lambda`, `map`, `reduce`, `filter` y/o `sum` el tiempo total reportado por empleado. Deberá retornar una lista con tuplas de la forma `(nombre del empleado, tiempo total reportado)`. Abajo se muestra un esqueleto de las entidades descritas en el problema."
   ]
  },
  {
   "cell_type": "code",
   "execution_count": 2,
   "metadata": {
    "collapsed": true
   },
   "outputs": [],
   "source": [
    "class Empleado:\n",
    "    def __init__(self, nombre, tareas):\n",
    "        self.nombre = nombre\n",
    "        self.tareas = tareas\n",
    "\n",
    "class Tarea:\n",
    "    def __init__(self, nombre, reportes):\n",
    "        self.nombre = nombre\n",
    "        self.reportes = reportes\n",
    "        \n",
    "class Reporte:\n",
    "    def __init__(self, fecha, tiempo):\n",
    "        self.fecha = fecha\n",
    "        self.tiempo = tiempo"
   ]
  },
  {
   "cell_type": "code",
   "execution_count": 3,
   "metadata": {
    "collapsed": false
   },
   "outputs": [
    {
     "name": "stdout",
     "output_type": "stream",
     "text": [
      "('Jaime Castro', 9) ('Bastián Mavrakis', 1)\n"
     ]
    }
   ],
   "source": [
    "reportes = [Reporte('01/07/2016', 1), Reporte('01/07/2016', 2), Reporte('01/07/2016', 3), Reporte('01/07/2016', 4)]\n",
    "tareas = [Tarea('Hacer la tarea de Programación Avanzada', reportes[1:2]), Tarea('Hacer la tarea de Arquitectura de Computadores', reportes[2:4]),\n",
    "          Tarea('Ver el partido de Chile.', reportes[0:1])]\n",
    "empleados = [Empleado(\"Jaime Castro\", tareas[0:2]), Empleado(\"Bastián Mavrakis\", tareas[2:3])]\n",
    "result = map(lambda e: (e.nombre, sum(map(lambda t: sum(map(lambda r: r.tiempo, t.reportes)), e.tareas))), empleados)\n",
    "print(*result)"
   ]
  },
  {
   "cell_type": "markdown",
   "metadata": {},
   "source": [
    "#### Distribución de puntaje:\n",
    "\n",
    "| **Punto** | **Requerimiento** | **Puntaje** |\n",
    "| --------- | ----------------- | ----------- |\n",
    "| A | Comprende en plenitud cómo utilizar las funciones `built-in` de Python. | **1 pto** |\n",
    "| B | Consigue extraer el tiempo de cada reporte (*mapping del atributo `tiempo` de los reportes*). | **3 pts** |\n",
    "| C | Consigue extraer el tiempo de cada tarea (*suma de los tiempos de los reportes*). | **3 pts** |\n",
    "| D | Consigue extraer el tiempo de cada empleado (*suma de los tiempos de las tareas*). | **3 pts** |\n",
    "|  | **Total** | **10 pts** |"
   ]
  },
  {
   "cell_type": "markdown",
   "metadata": {},
   "source": [
    "## d) Implemente un decorador `and` que haga que una función retorne True, si su output cumple con ciertas condiciones dadas por una **cantidad arbitraria** de funciones."
   ]
  },
  {
   "cell_type": "code",
   "execution_count": 27,
   "metadata": {
    "collapsed": false
   },
   "outputs": [
    {
     "name": "stdout",
     "output_type": "stream",
     "text": [
      "False\n",
      "True\n"
     ]
    }
   ],
   "source": [
    "def and_decorator(*conditions):\n",
    "    def decorator(function):\n",
    "        def new_function(input):\n",
    "            return all(condition(function(input)) for condition in conditions)\n",
    "        return new_function\n",
    "    return decorator\n",
    "\n",
    "\n",
    "@and_decorator(lambda x: x > 0, lambda x: x % 2 != 0)\n",
    "def funcion_decorada(input):\n",
    "    return input + 1\n",
    "\n",
    "\n",
    "if __name__ == '__main__':\n",
    "    print(funcion_decorada(1))\n",
    "    print(funcion_decorada(2))"
   ]
  },
  {
   "cell_type": "markdown",
   "metadata": {},
   "source": [
    "#### Distribución de puntaje:\n",
    "\n",
    "| **Punto** | **Requerimiento** | **Puntaje** |\n",
    "| --------- | ----------------- | ----------- |\n",
    "| A | Decorador *builder* (`and_decorator`) implementado y funcional, capaz de recibir cualquier cantidad de funciones. | **2.5 pts** |\n",
    "| B | Decorador *final* (`decorator`) implementado y funcional. | **5 pts** |\n",
    "|  | **Total** | **7.5 pts** |"
   ]
  },
  {
   "cell_type": "markdown",
   "metadata": {},
   "source": [
    "## e) Escriba un comando que estando en la carpeta `/home/dummy/` muestre el contenido de un archivo ubicado en `/home//user/documents/pgadmin.log`. Escriba otro comando donde sólo se muestren las líneas que contengan el string 'LDCJ'."
   ]
  },
  {
   "cell_type": "markdown",
   "metadata": {
    "collapsed": true
   },
   "source": [
    "1) ``cat ../user/documents/pgadmin.log ``\n",
    "2) ``cat ../user/documents/pgadmin.log | greep LDCJ ``"
   ]
  },
  {
   "cell_type": "markdown",
   "metadata": {},
   "source": [
    "#### Distribución de puntaje:\n",
    "\n",
    "| **Punto** | **Requerimiento** | **Puntaje** |\n",
    "| --------- | ----------------- | ----------- |\n",
    "| A | Comando 1. | **2.5 pts** |\n",
    "| B | Comando 2. | **2.5 pts** |\n",
    "|  | **Total** | **5 pts** |\n",
    "\n",
    "**Notas**:\n",
    "\n",
    "- En el punto **A** se entrega puntaje si el alumno escribe bien la ruta, sin impotar el resultado del comando, es decir, si menciona a `../user/documents/pgadmin.log` en su respuesta."
   ]
  },
  {
   "cell_type": "code",
   "execution_count": null,
   "metadata": {
    "collapsed": true
   },
   "outputs": [],
   "source": []
  }
 ],
 "metadata": {
  "kernelspec": {
   "display_name": "Python 3",
   "language": "python",
   "name": "python3"
  },
  "language_info": {
   "codemirror_mode": {
    "name": "ipython",
    "version": 3
   },
   "file_extension": ".py",
   "mimetype": "text/x-python",
   "name": "python",
   "nbconvert_exporter": "python",
   "pygments_lexer": "ipython3",
   "version": "3.4.3"
  }
 },
 "nbformat": 4,
 "nbformat_minor": 0
}
