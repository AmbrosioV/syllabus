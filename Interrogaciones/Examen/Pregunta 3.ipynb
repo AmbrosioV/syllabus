{
 "cells": [
  {
   "cell_type": "markdown",
   "metadata": {},
   "source": [
    "# Pregunta 3\n",
    "## a) Dado el siguiente código, responda las preguntas a continuación y justifique sus respuestas:"
   ]
  },
  {
   "cell_type": "code",
   "execution_count": 11,
   "metadata": {
    "collapsed": false
   },
   "outputs": [],
   "source": [
    "class Examen:\n",
    "\n",
    "    def __new__(cls, *args, **kwargs):\n",
    "        cls.students_dict = {}\n",
    "        cls.id_ = cls.generate_user_id()\n",
    "        return super().__new__(cls)\n",
    "\n",
    "    def __init__(self, name):\n",
    "        self.name = name\n",
    "\n",
    "    def __call__(self, *args, **kwargs):\n",
    "        return [Examen.students_dict[ar] for ar in args]\n",
    "\n",
    "    @staticmethod\n",
    "    def generate_user_id():\n",
    "        count = 0\n",
    "        while True:\n",
    "            yield count\n",
    "            count += 1\n",
    "\n",
    "    def add_user(self, name):\n",
    "        Examen.students_dict[name] = next(Examen.id_)\n",
    "\n",
    "\n",
    "if __name__ == \"__main__\":\n",
    "    e = Examen(\"Progra\")\n",
    "    e.add_user(\"E1\")\n",
    "    e.add_user(\"E2\")\n",
    "    e.add_user(\"E3\")\n"
   ]
  },
  {
   "cell_type": "markdown",
   "metadata": {},
   "source": [
    "### 1) ¿Que representa ``cls``? \n",
    "La clase Examen\n",
    "### 2)  El método ``generate_user_id`` ¿pertenece a la clase o a las instancias de ``Examen``?\n",
    "El metodo pertenece a la clase"
   ]
  },
  {
   "cell_type": "markdown",
   "metadata": {},
   "source": [
    "### 3) ¿Qué imprime la sentencia ``print(e.students_dict)``?"
   ]
  },
  {
   "cell_type": "code",
   "execution_count": 12,
   "metadata": {
    "collapsed": false
   },
   "outputs": [
    {
     "name": "stdout",
     "output_type": "stream",
     "text": [
      "{'E3': 2, 'E1': 0, 'E2': 1}\n"
     ]
    }
   ],
   "source": [
    "print(e.students_dict)"
   ]
  },
  {
   "cell_type": "markdown",
   "metadata": {},
   "source": [
    "### 4) ¿Qué imprime la sentencia ``print(e(\"E1'', \"E2'', \"E3''))``?"
   ]
  },
  {
   "cell_type": "code",
   "execution_count": 13,
   "metadata": {
    "collapsed": false
   },
   "outputs": [
    {
     "name": "stdout",
     "output_type": "stream",
     "text": [
      "[0, 1, 2]\n"
     ]
    }
   ],
   "source": [
    "print(e(\"E1\", \"E2\", \"E3\"))"
   ]
  },
  {
   "cell_type": "markdown",
   "metadata": {},
   "source": [
    "## Distribución de puntaje\n",
    "\n",
    "Cada pregunta vale 1.5, el puntaje se asigna 0,1, 1.5\n",
    "con:\n",
    "\n",
    "| **Puntaje**| **Equivalente** |\n",
    "|-----------------------------------------------|:-----------:|\n",
    "| **0 ptos** | Blanco o totalmente incorrecto  |\n",
    "| **1 pto** | Bien pero con errores  |\n",
    "| **1.5 ptos** | Respuesta correcta |\n"
   ]
  },
  {
   "cell_type": "markdown",
   "metadata": {},
   "source": [
    "## b) Una empresa vende poleras y pantalones en linea, y tienen un problema en la implementación de las clases para sus productos. Utilizando solamente un generador, otorgue a cada producto un identificador único en orden ascendente."
   ]
  },
  {
   "cell_type": "code",
   "execution_count": 14,
   "metadata": {
    "collapsed": false
   },
   "outputs": [
    {
     "name": "stdout",
     "output_type": "stream",
     "text": [
      "0\n",
      "1\n",
      "2\n",
      "3\n"
     ]
    }
   ],
   "source": [
    "def id_generator():\n",
    "        n = 0\n",
    "        while True:\n",
    "            yield n\n",
    "            n += 1\n",
    "\n",
    "class Producto:\n",
    "    gen_id = id_generator()\n",
    "    \n",
    "    def __init__(self):  \n",
    "        self.identificador = next(Producto.gen_id)\n",
    "\n",
    "        \n",
    "class Polera(Producto):\n",
    "    def __init__(self):\n",
    "        super().__init__()\n",
    "\n",
    "        \n",
    "class Pantalon(Producto):\n",
    "    def __init__(self):\n",
    "        super().__init__()\n",
    "        \n",
    "if __name__ == \"__main__\":\n",
    "    pant1 = Pantalon()\n",
    "    pol1 = Polera()\n",
    "    pant2 = Pantalon()\n",
    "    pol2 = Polera()\n",
    "    print(pant1.identificador)\n",
    "    print(pol1.identificador)\n",
    "    print(pant2.identificador)\n",
    "    print(pol2.identificador)"
   ]
  },
  {
   "cell_type": "markdown",
   "metadata": {},
   "source": [
    "## Distribución de puntaje\n",
    "\n",
    "Cada pregunta vale 1.5, el puntaje se asigna 0,1, 1.5\n",
    "con:\n",
    "\n",
    "| **Puntaje**| **Equivalente** |\n",
    "|:-----------------------------------------------:|:-----------:|\n",
    "| **3 ptos** | Generador correcto  |\n",
    "| **3 pto** | Clase con el generador donde corresponde  |"
   ]
  },
  {
   "cell_type": "markdown",
   "metadata": {},
   "source": [
    "## c) Dado el siguiente código, escriba el output esperado:"
   ]
  },
  {
   "cell_type": "code",
   "execution_count": 15,
   "metadata": {
    "collapsed": false
   },
   "outputs": [
    {
     "name": "stdout",
     "output_type": "stream",
     "text": [
      "8\n",
      "5\n",
      "5\n"
     ]
    }
   ],
   "source": [
    "class Int:\n",
    "    def __init__(self,entero):\n",
    "        self.entero = entero\n",
    "\n",
    "    def __str__(self):\n",
    "        return str(self.entero)\n",
    "\n",
    "class Adder:\n",
    "    def add(a, b):\n",
    "        if isinstance(a,Int):\n",
    "            a.entero += b.entero\n",
    "        else:\n",
    "            a = a + b.entero\n",
    "\n",
    "if __name__ == \"__main__\":\n",
    "    int1 = Int(3)\n",
    "    int2 = Int(5)\n",
    "    int3 = 5\n",
    "    Adder.add(int1,int2)\n",
    "    Adder.add(int3,int1)\n",
    "    print(int1)\n",
    "    print(int2)\n",
    "    print(int3)"
   ]
  },
  {
   "cell_type": "markdown",
   "metadata": {},
   "source": [
    "### Distribución de puntaje\n",
    "\n",
    "|Punto| **Requerimientos**                            | **Puntaje** |\n",
    "|--|-----------------------------------------------|:-----------:|\n",
    "|A| ``print(int1)`` correcto      |  **1 pto** |\n",
    "|B|``print(int2)`` correcto            |  **1 pto** |\n",
    "|C| ``print(int3)`` correcto           |  **1 pto** |"
   ]
  },
  {
   "cell_type": "markdown",
   "metadata": {},
   "source": [
    "## d) Escriba el output que corresponde a los dos ``print`` al final del siguiente código:"
   ]
  },
  {
   "cell_type": "code",
   "execution_count": 16,
   "metadata": {
    "collapsed": false
   },
   "outputs": [
    {
     "name": "stdout",
     "output_type": "stream",
     "text": [
      "[0, 1, 2, 3, 4, 5, 6]\n",
      "[<class '__main__.Pregunta'>, <class '__main__.Pregunta'>, <class '__main__.Pregunta'>, <class '__main__.Pregunta'>, <class '__main__.Pregunta'>, <class '__main__.Pregunta'>, <class '__main__.Pregunta'>]\n"
     ]
    }
   ],
   "source": [
    "class MetaExamen(type):\n",
    "    v1 = []\n",
    "    def __call__(cls, *args, **kw):\n",
    "        while(len(cls.v1) < args[0]):\n",
    "            cls.v1.append(super().__call__(*args, **kw))\n",
    "        return cls.v1\n",
    "    \n",
    "class Pregunta(metaclass=MetaExamen):\n",
    "    cont = 0\n",
    "    def __init__(self, n):\n",
    "        self.id_ = Pregunta.cont\n",
    "        Pregunta.cont += 1\n",
    "\n",
    "    def __repr__(self):\n",
    "        return str(self.id_)\n",
    "\n",
    "a = Pregunta(7)\n",
    "print(a)\n",
    "print([type(a[i]) for i in range(len(a))])"
   ]
  },
  {
   "cell_type": "markdown",
   "metadata": {},
   "source": [
    "### Distribución de puntaje\n",
    "\n",
    "|Punto| **Requerimientos**                            | **Puntaje** |\n",
    "|-|-----------------------------------------------|:-----------:|\n",
    "|A| ``print(a)`` correcto            |  **3 ptos** |\n",
    "|B| ``print([type(a[i]) for i in range(len(a))])`` correcto            |  **3 ptos** |\n",
    "\n",
    "Se aceptan errores pero si se ve que comprende la idea se asigna puntaje igual"
   ]
  },
  {
   "cell_type": "markdown",
   "metadata": {},
   "source": [
    "## e) Dado el siguiente código responda las siguientes preguntas:"
   ]
  },
  {
   "cell_type": "code",
   "execution_count": 17,
   "metadata": {
    "collapsed": false
   },
   "outputs": [
    {
     "name": "stdout",
     "output_type": "stream",
     "text": [
      "{'g2': 200, 'g1': 15}\n"
     ]
    }
   ],
   "source": [
    "import json\n",
    "\n",
    "       \n",
    "def foo(d):\n",
    "\n",
    "    if '__class__' in d:\n",
    "        nombre = d.pop('__class__')\n",
    "        inst = type(nombre, (), d)\n",
    "\n",
    "    else:\n",
    "        inst = d\n",
    "    \n",
    "    return inst\n",
    "\n",
    "\n",
    "# JSON message\n",
    "msg1 = '{\"g1\": 1, \"__class__\": \"F\", \"g2\": 20}'\n",
    "msg2 = '{\"g1\": 15, \"g2\": 200}'\n",
    "\n",
    "a = json.loads(msg1, object_hook=foo)\n",
    "b = json.loads(msg2, object_hook=foo)\n",
    "\n",
    "print(b)"
   ]
  },
  {
   "cell_type": "markdown",
   "metadata": {
    "collapsed": false
   },
   "source": [
    "### 1 ¿Qué se carga en la variable ``a``?\n",
    "La clase F\n",
    "### 2 ¿Qué imprime la última línea del código ``print(b)``?"
   ]
  },
  {
   "cell_type": "code",
   "execution_count": 18,
   "metadata": {
    "collapsed": false
   },
   "outputs": [
    {
     "name": "stdout",
     "output_type": "stream",
     "text": [
      "{'g2': 200, 'g1': 15}\n"
     ]
    }
   ],
   "source": [
    "print(b)"
   ]
  },
  {
   "cell_type": "markdown",
   "metadata": {},
   "source": [
    "### Distribución de puntaje\n",
    "\n",
    "|Punto| **Requerimientos**                            | **Puntaje** |\n",
    "|-|-----------------------------------------------|:-----------:|\n",
    "|A| variable ``a``             |  **2.5 ptos** |\n",
    "|B| ``print(b)`` correcto            |  **2.5 ptos** |\n",
    "\n",
    "Se aceptan errores pero si se ve que comprende la idea se asigna puntaje igual"
   ]
  },
  {
   "cell_type": "code",
   "execution_count": null,
   "metadata": {
    "collapsed": true
   },
   "outputs": [],
   "source": []
  }
 ],
 "metadata": {
  "kernelspec": {
   "display_name": "Python 3",
   "language": "python",
   "name": "python3"
  },
  "language_info": {
   "codemirror_mode": {
    "name": "ipython",
    "version": 3
   },
   "file_extension": ".py",
   "mimetype": "text/x-python",
   "name": "python",
   "nbconvert_exporter": "python",
   "pygments_lexer": "ipython3",
   "version": "3.4.3"
  }
 },
 "nbformat": 4,
 "nbformat_minor": 0
}
