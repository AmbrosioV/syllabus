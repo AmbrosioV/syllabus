{
 "cells": [
  {
   "cell_type": "markdown",
   "metadata": {},
   "source": [
    "# 3#"
   ]
  },
  {
   "cell_type": "markdown",
   "metadata": {},
   "source": [
    "# a)#"
   ]
  },
  {
   "cell_type": "code",
   "execution_count": 2,
   "metadata": {
    "collapsed": false
   },
   "outputs": [],
   "source": [
    "class Examen:\n",
    "\n",
    "    def __new__(cls, *args, **kwargs):\n",
    "        cls.students_dict = {}\n",
    "        cls.id_ = cls.generate_user_id()\n",
    "        return super().__new__(cls)\n",
    "\n",
    "    def __init__(self, name):\n",
    "        self.name = name\n",
    "\n",
    "    def __call__(self, *args, **kwargs):\n",
    "        return [Examen.students_dict[ar] for ar in args]\n",
    "\n",
    "    @staticmethod\n",
    "    def generate_user_id():\n",
    "        count = 0\n",
    "        while True:\n",
    "            yield count\n",
    "            count += 1\n",
    "\n",
    "    def add_user(self, name):\n",
    "        Examen.students_dict[name] = next(Examen.id_)\n",
    "\n",
    "\n",
    "if __name__ == \"__main__\":\n",
    "    e = Examen(\"Progra\")\n",
    "    e.add_user(\"E1\")\n",
    "    e.add_user(\"E2\")\n",
    "    e.add_user(\"E3\")\n"
   ]
  },
  {
   "cell_type": "markdown",
   "metadata": {},
   "source": [
    "a) ¿Que representa cls? A la clase Examen"
   ]
  },
  {
   "cell_type": "markdown",
   "metadata": {},
   "source": [
    "b) El metodo pertenece a la clase"
   ]
  },
  {
   "cell_type": "markdown",
   "metadata": {},
   "source": [
    "c)"
   ]
  },
  {
   "cell_type": "code",
   "execution_count": 4,
   "metadata": {
    "collapsed": false
   },
   "outputs": [
    {
     "name": "stdout",
     "output_type": "stream",
     "text": [
      "{'E2': 1, 'E3': 2, 'E1': 0}\n"
     ]
    }
   ],
   "source": [
    "print(e.students_dict)"
   ]
  },
  {
   "cell_type": "markdown",
   "metadata": {},
   "source": [
    "d)"
   ]
  },
  {
   "cell_type": "code",
   "execution_count": 5,
   "metadata": {
    "collapsed": false
   },
   "outputs": [
    {
     "name": "stdout",
     "output_type": "stream",
     "text": [
      "[0, 1, 2]\n"
     ]
    }
   ],
   "source": [
    "print(e(\"E1\", \"E2\", \"E3\"))"
   ]
  },
  {
   "cell_type": "markdown",
   "metadata": {},
   "source": [
    "**Distribucíon de puntaje**\n",
    "\n",
    "Cada pregunta vale 1.5, el puntaje se asigna 0,1, 1.5\n",
    "con:\n",
    "\n",
    "| **Puntaje**| **equivalente** |\n",
    "|-----------------------------------------------|:-----------:|\n",
    "| 0 | Blanco o totalmente incorrecto  |\n",
    "| 1 | Bien pero con errores  |\n",
    "| 1.5 | Respuesta correcta |\n"
   ]
  },
  {
   "cell_type": "markdown",
   "metadata": {},
   "source": [
    "# b)#"
   ]
  },
  {
   "cell_type": "markdown",
   "metadata": {},
   "source": [
    "Una empresa vende poleras y pantalones en linea, y tienen un problema en la implementación de las clases para sus productos. Utilizando solamente un generador, otorgue a cada producto un identificador único en orden ascendente."
   ]
  },
  {
   "cell_type": "code",
   "execution_count": 6,
   "metadata": {
    "collapsed": false
   },
   "outputs": [
    {
     "name": "stdout",
     "output_type": "stream",
     "text": [
      "0\n",
      "1\n",
      "2\n",
      "3\n"
     ]
    }
   ],
   "source": [
    "def id_generator():\n",
    "        n = 0\n",
    "        while True:\n",
    "            yield n\n",
    "            n += 1\n",
    " \n",
    "class Producto:\n",
    "    gen_id = id_generator()\n",
    "    \n",
    "    def __init__(self):  \n",
    "        self.identificador = next(Producto.gen_id)\n",
    "\n",
    "        \n",
    "class Polera(Producto):\n",
    "    def __init__(self):\n",
    "        super().__init__()\n",
    "      \n",
    "\n",
    "class Pantalon(Producto):\n",
    "    def __init__(self):\n",
    "        super().__init__()\n",
    "        \n",
    "if __name__ == \"__main__\":\n",
    "    Pant1 = Pantalon()\n",
    "    Pol1 = Polera()\n",
    "    Pant2 = Pantalon()\n",
    "    Pol2 = Polera()\n",
    "    print(Pant1.identificador)\n",
    "    print(Pol1.identificador)\n",
    "    print(Pant2.identificador)\n",
    "    print(Pol2.identificador)"
   ]
  },
  {
   "cell_type": "markdown",
   "metadata": {},
   "source": [
    "**Distribucíon de puntaje**\n",
    "\n",
    "Cada pregunta vale 1.5, el puntaje se asigna 0,1, 1.5\n",
    "con:\n",
    "\n",
    "| **Puntaje**| **equivalente** |\n",
    "|-----------------------------------------------|:-----------:|\n",
    "| a) 3 | Generador correcto  |\n",
    "| b) 3 | Clase con el generador donde corresponde  |"
   ]
  },
  {
   "cell_type": "markdown",
   "metadata": {},
   "source": [
    "# c)# "
   ]
  },
  {
   "cell_type": "code",
   "execution_count": 7,
   "metadata": {
    "collapsed": false
   },
   "outputs": [
    {
     "name": "stdout",
     "output_type": "stream",
     "text": [
      "8\n",
      "5\n",
      "5\n"
     ]
    }
   ],
   "source": [
    "class Int:\n",
    "    def __init__(self,entero):\n",
    "        self.entero = entero\n",
    "\n",
    "    def __str__(self):\n",
    "        return str(self.entero)\n",
    "\n",
    "class Adder:\n",
    "    def add(a, b):\n",
    "        if isinstance(a,Int):\n",
    "            a.entero += b.entero\n",
    "        else:\n",
    "            a = a + b.entero\n",
    "\n",
    "if __name__ == \"__main__\":\n",
    "    Int1 = Int(3)\n",
    "    Int2 = Int(5)\n",
    "    Int3 = 5\n",
    "    Adder.add(Int1,Int2)\n",
    "    Adder.add(Int3,Int1)\n",
    "    print(Int1)\n",
    "    print(Int2)\n",
    "    print(Int3)"
   ]
  },
  {
   "cell_type": "markdown",
   "metadata": {},
   "source": [
    "**Distribucíon de puntaje**\n",
    "\n",
    "| **Requerimientos**                            | **Puntaje** |\n",
    "|-----------------------------------------------|:-----------:|\n",
    "| a) print(Int1) correcto            |  **1 pto** |\n",
    "| b) print(Int2) correcto            |  **1 pto** |\n",
    "| c) print(Int3) correcto            |  **1 pto** |"
   ]
  },
  {
   "cell_type": "markdown",
   "metadata": {},
   "source": [
    "# d)#"
   ]
  },
  {
   "cell_type": "code",
   "execution_count": 8,
   "metadata": {
    "collapsed": false
   },
   "outputs": [
    {
     "name": "stdout",
     "output_type": "stream",
     "text": [
      "[0, 1, 2, 3, 4, 5, 6]\n",
      "[<class '__main__.Pregunta'>, <class '__main__.Pregunta'>, <class '__main__.Pregunta'>, <class '__main__.Pregunta'>, <class '__main__.Pregunta'>, <class '__main__.Pregunta'>, <class '__main__.Pregunta'>]\n"
     ]
    }
   ],
   "source": [
    "class MetaExamen(type):\n",
    "    v1 = []\n",
    "    def __call__(cls, *args, **kw):\n",
    "        while(len(cls.v1) < args[0]):\n",
    "            cls.v1.append(super().__call__(*args, **kw))\n",
    "        return cls.v1\n",
    "    \n",
    "class Pregunta(metaclass=MetaExamen):\n",
    "    cont = 0\n",
    "    def __init__(self, n):\n",
    "        self.id_ = Pregunta.cont\n",
    "        Pregunta.cont += 1\n",
    "\n",
    "    def __repr__(self):\n",
    "        return str(self.id_)\n",
    "\n",
    "a = Pregunta(7)\n",
    "print(a)\n",
    "print([type(a[i]) for i in range(len(a))])"
   ]
  },
  {
   "cell_type": "markdown",
   "metadata": {},
   "source": [
    "**Distribucíon de puntaje**\n",
    "\n",
    "| **Requerimientos**                            | **Puntaje** |\n",
    "|-----------------------------------------------|:-----------:|\n",
    "| a) print(a) correcto            |  **3 ptos** |\n",
    "| b) print([type(a[i]) for i in range(len(a))]) correcto            |  **3 ptos** |\n",
    "\n",
    "Se aceptan errores pero si se ve que comprende la idea se asigna puntaje igual"
   ]
  },
  {
   "cell_type": "markdown",
   "metadata": {},
   "source": [
    "# e)#"
   ]
  },
  {
   "cell_type": "code",
   "execution_count": 9,
   "metadata": {
    "collapsed": false
   },
   "outputs": [
    {
     "name": "stdout",
     "output_type": "stream",
     "text": [
      "<class '__main__.F'>\n",
      "{'g1': 15, 'g2': 200}\n"
     ]
    }
   ],
   "source": [
    "import json\n",
    "\n",
    "       \n",
    "def foo(d):\n",
    "\n",
    "    if '__class__' in d:\n",
    "        nombre = d.pop('__class__')\n",
    "        inst = type(nombre, (), d)\n",
    "\n",
    "    else:\n",
    "        inst = d\n",
    "    \n",
    "    return inst\n",
    "\n",
    "\n",
    "# JSON message\n",
    "msg1 = '{\"g1\": 1, \"__class__\": \"F\", \"g2\": 20}'\n",
    "msg2 = '{\"g1\": 15, \"g2\": 200}'\n",
    "\n",
    "a = json.loads(msg1, object_hook=foo)\n",
    "b = json.loads(msg2, object_hook=foo)\n",
    "\n",
    "print(a)\n",
    "print(b)"
   ]
  },
  {
   "cell_type": "markdown",
   "metadata": {},
   "source": [
    "**Distribucíon de puntaje**\n",
    "\n",
    "| **Requerimientos**                            | **Puntaje** |\n",
    "|-----------------------------------------------|:-----------:|\n",
    "| a) variable a             |  **2.5 ptos** |\n",
    "| b) print(b) correcto            |  **2.5 ptos** |\n",
    "\n",
    "Se aceptan errores pero si se ve que comprende la idea se asigna puntaje igual"
   ]
  },
  {
   "cell_type": "code",
   "execution_count": null,
   "metadata": {
    "collapsed": false
   },
   "outputs": [],
   "source": []
  },
  {
   "cell_type": "code",
   "execution_count": null,
   "metadata": {
    "collapsed": false
   },
   "outputs": [],
   "source": []
  },
  {
   "cell_type": "code",
   "execution_count": null,
   "metadata": {
    "collapsed": true
   },
   "outputs": [],
   "source": []
  }
 ],
 "metadata": {
  "kernelspec": {
   "display_name": "Python 3",
   "language": "python",
   "name": "python3"
  },
  "language_info": {
   "codemirror_mode": {
    "name": "ipython",
    "version": 3
   },
   "file_extension": ".py",
   "mimetype": "text/x-python",
   "name": "python",
   "nbconvert_exporter": "python",
   "pygments_lexer": "ipython3",
   "version": "3.4.3"
  }
 },
 "nbformat": 4,
 "nbformat_minor": 0
}
