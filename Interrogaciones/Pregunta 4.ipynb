{
 "cells": [
  {
   "cell_type": "markdown",
   "metadata": {},
   "source": [
    "## Pregunta 4"
   ]
  },
  {
   "cell_type": "markdown",
   "metadata": {},
   "source": [
    "### a)\n",
    "Desde la última lectura dada en clases *Computers without clocks*, ¿cuál sería la analogía entre las ideas presentadas en el texto y el concepto de *multi-threading* visto en clases?\n",
    "\n",
    "|Punto|**Requerimientos**                                                                        | **Puntaje** |\n",
    "|--|---------------------------------------------------------------------------------------------|:-----------:|\n",
    "| A| Explicar sobre la relacion de los computadores asincronos y multiThreading          |  **1 pto** |\n",
    "| B| Explicar la coordinacion tipo rendevouz y su relacion con el metodo Join de multithreading | **3 ptos**  |\n",
    "| C| Explicar la coordinacion tipo arbitrer y su relacion con el metodo Lock de multithreading | **3 ptos**  |\n",
    "|  | **Total** | **7** |\n",
    "* En B y C 2 puntos por la explicacion del mecanismo y 1 por explicacion de la coordinacion "
   ]
  },
  {
   "cell_type": "markdown",
   "metadata": {},
   "source": [
    "### b)\n",
    "Dado el codigo, indique cual sería la salida esperada"
   ]
  },
  {
   "cell_type": "code",
   "execution_count": 1,
   "metadata": {
    "collapsed": false
   },
   "outputs": [
    {
     "name": "stdout",
     "output_type": "stream",
     "text": [
      "Tratando de tomar lock a\n",
      "Lock a tomado\n",
      "Tratando de tomar lock b\n",
      "Lock b tomado\n",
      "Tratando de tomar lock b\n",
      "Tratando de tomar lock a\n"
     ]
    }
   ],
   "source": [
    "from threading import Lock, Thread\n",
    "from time import sleep\n",
    "\n",
    "a = Lock()\n",
    "b = Lock()\n",
    "\n",
    "def x():\n",
    "    print(\"Tratando de tomar lock a\")\n",
    "    with a:\n",
    "        print(\"Lock a tomado\")\n",
    "        sleep(5)\n",
    "        print(\"Tratando de tomar lock b\")\n",
    "        with b:\n",
    "            print(\"Lock b tomado\")\n",
    "            print(\"EJECUTA X\")\n",
    "\n",
    "def y():\n",
    "    print(\"Tratando de tomar lock b\")\n",
    "    with b:\n",
    "        print(\"Lock b tomado\")\n",
    "        sleep(5)\n",
    "        print(\"Tratando de tomar lock a\")\n",
    "        with a:\n",
    "            print(\"Lock a tomado\")\n",
    "            print(\"EJECUTA Y\")\n",
    "\n",
    "t_x = Thread(name='Thread X', target=x)\n",
    "t_y = Thread(name='Thread Y', target=y)\n",
    "t_x.start()\n",
    "sleep(1)\n",
    "t_y.start()"
   ]
  },
  {
   "cell_type": "markdown",
   "metadata": {},
   "source": [
    "#### Distribución de puntaje\n",
    "\n",
    "Si tiene todas las lineas correctas **8pts**. Por cada linea incorrecta o desordenada se descuenta. Si explica en vez de escribir el output, maximo medio puntaje"
   ]
  },
  {
   "cell_type": "markdown",
   "metadata": {},
   "source": [
    "### c)\n",
    "Dado el siguiente código, escriba lo que se imprime para el caso en que el usuario ingresa \"a\" y para el caso en que el usuario ingresa 5:"
   ]
  },
  {
   "cell_type": "code",
   "execution_count": 5,
   "metadata": {
    "collapsed": false
   },
   "outputs": [
    {
     "name": "stdout",
     "output_type": "stream",
     "text": [
      "Ingrese un entero: a\n",
      "Algo malo ocurrio...\n",
      "Saliendo del programa\n",
      "Ingrese un entero: 5\n",
      "Saliendo del programa\n",
      "Proceso terminado con exito\n"
     ]
    }
   ],
   "source": [
    "while True:\n",
    "    try:\n",
    "        n = input(\"Ingrese un entero: \")\n",
    "        n = int(n)\n",
    "        break\n",
    "\n",
    "    except Exception:\n",
    "        print(\"Algo malo ocurrio...\")\n",
    "        \n",
    "    except ValueError:\n",
    "        print(\"Entero no valido, intente nuevamente...\")\n",
    "        \n",
    "    finally:\n",
    "        print(\"Saliendo del programa\")\n",
    "    \n",
    "print(\"Proceso terminado con exito\")"
   ]
  },
  {
   "cell_type": "markdown",
   "metadata": {},
   "source": [
    " |Punto| **Requerimientos**                                | **Puntaje** |\n",
    "|---|------------------------------------------------|:-----------:|\n",
    "| A| Explicar que imprime el código al escribir \"a\" |  **4 ptos** |\n",
    "| B| Explicar que imprime el código al escribir 5   | **4 ptos**  |\n",
    "||**Total**| **8**|"
   ]
  },
  {
   "cell_type": "markdown",
   "metadata": {},
   "source": [
    "### d)\n",
    "\n",
    "* ``SetUp``: El método ``setUp`` nos permite declarar las variables que serán usadas para los tests,además se preocupa de volver a setear o inicializar las variables antes de entrar a un test nuevo,en caso de que uno de los otros tests tuvo que modificar algo en las variables.\n",
    "\n",
    "* ``TearDown``: Puede ser usado para 'limpiar' después de que terminaron de ejecutarse todos los tests. Por ejemplo si se crearon archivos, estos son eliminados, o si hay variables que necesitan ser eliminadas, asi no se acumulan innecesariamente en la memoria"
   ]
  },
  {
   "cell_type": "markdown",
   "metadata": {
    "collapsed": true
   },
   "source": [
    "|Punto| **Requerimientos**                                  | **Puntaje** |\n",
    "|-- |-----------------------------------------------------|:-----------:|\n",
    "| A| Explicar SetUp y TearDown correctamente          |  **4 ptos** |\n",
    "| B| Ejemplo correcto en python donde se ocupan ambos | **3 ptos**  |\n",
    "||**Total**| **7**|"
   ]
  },
  {
   "cell_type": "code",
   "execution_count": null,
   "metadata": {
    "collapsed": true
   },
   "outputs": [],
   "source": []
  }
 ],
 "metadata": {
  "kernelspec": {
   "display_name": "Python 3",
   "language": "python",
   "name": "python3"
  },
  "language_info": {
   "codemirror_mode": {
    "name": "ipython",
    "version": 3
   },
   "file_extension": ".py",
   "mimetype": "text/x-python",
   "name": "python",
   "nbconvert_exporter": "python",
   "pygments_lexer": "ipython3",
   "version": "3.4.3"
  }
 },
 "nbformat": 4,
 "nbformat_minor": 0
}
