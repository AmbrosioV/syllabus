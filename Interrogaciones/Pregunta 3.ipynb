{
 "cells": [
  {
   "cell_type": "markdown",
   "metadata": {},
   "source": [
    "## Pregunta 3\n",
    "\n",
    "### a)\n",
    "\n",
    "Suponga que la temperatura en un día $t$ del año (llamada $X_{t}$) depende de la temperatura de los $p$ días anteriores ($X_{t-i}, \\; \\forall i \\in [1, \\ldots, p]$). La forma de calcular la temperatura $X_t$ está dada por la siguiente ecuación:\n",
    "\n",
    "$X_{t} = \\sum_{i=1}^p \\alpha_i X_{t-i} + \\epsilon_t$\n",
    "\n",
    "Entonces, para ser capaces de predecir la temperatura $X_{t}$, necesitamos además de la temperatura de los $p$ días anteriores, los valores de los parámetros $\\alpha_1, \\alpha_2, \\ldots, \\alpha_p$ y $\\epsilon_t$.\n",
    "\n",
    "#### i)\n",
    "Escriba en Python, una función generadora que, para un valor dado de $p$ entregue los valores de $X_t$. La función debe recibir como argumento los parámetros necesarios, además, por cada iteración debe recibir el valor de $\\epsilon_t$ y devolver el valor de $X_{t}$. Puede asumir que los valores de $\\epsilon_t$ se obtienen al azar.\n",
    "\n",
    "#### ii) \n",
    "Escriba como utilizaría la función creada mediante una comprensión de listas, para generar una lista con 200 muestras de temperaturas $X_{t}$ según el modelo."
   ]
  },
  {
   "cell_type": "code",
   "execution_count": 8,
   "metadata": {
    "collapsed": false
   },
   "outputs": [],
   "source": [
    "import random\n",
    "\n",
    "def temperatura(*alphas):\n",
    "    error_t = yield\n",
    "    x = [random.random() for _ in range(len(alphas))]\n",
    "    while True:\n",
    "        x_t = sum([t[0]*t[1] for t in zip(alphas, x[::-1])]) + error_t\n",
    "        x = [x_t] + x[:-1]\n",
    "        error_t = yield x_t\n",
    "        \n",
    "temps = temperatura(-0.1, 0.3, 1)\n",
    "next(temps) # temps.send(None)\n",
    "res = [temps.send(2.0 * random.random() - 1) for _ in range(200)]"
   ]
  },
  {
   "cell_type": "markdown",
   "metadata": {},
   "source": [
    "|Punto|**Requerimientos**                                | **Puntaje** |\n",
    "|--|-------------------------------------------------|:-----------:|\n",
    "| A| Función recibe alphas|  **1 pto**  |\n",
    "| B| Se usa `while True:` correctamente   | **1 ptos**  |\n",
    "| C| Se calcula x_t correctamente   | **3 pto**  |\n",
    "| D| Se actualizan los x guardados, sin almacenar innecesarios   | **2 ptos**  |\n",
    "| E| Se retorna el x_t nuevo y se recibe el nuevo error   | **3 ptos**  |\n",
    "| F| Se instancia un generador con la función generadora creada  | **1 ptos**  |\n",
    "| G| Se envia el primer error (o se maneja correctamente)   | **1 ptos**  |\n",
    "| H| Se obtienen 200 temperaturas con lista por compresión (usando `send`)   | **3 ptos**  |\n",
    "|  | **Total** | **15** |\n",
    "\n",
    "| **Descuentos**                                | **Puntaje** |\n",
    "|---------------------------------------------------|:-----------:|\n",
    "| A) Usar random sin importarlo   | **-1 ptos**  |"
   ]
  },
  {
   "cell_type": "markdown",
   "metadata": {},
   "source": [
    "### b)\n",
    "\n",
    "Escriba en Python un decorador que reciba como argumento una función y número real, que permita implementar el método $\\texttt{func()}$ de la clase escrita a continuación. El método implementado debe realizar la reducción de los valores contenidos en una lista que contiene el producto de los elementos de las listas $\\texttt{values}$ y $\\texttt{other_values}$ y cada element elevado al valor real definido como argumento del decorador. La reducción debe ser realizada según la función definida como argumento en el decorador. No utilice ciclos **FOR** ni **WHILE** para implementar el método."
   ]
  },
  {
   "cell_type": "code",
   "execution_count": 6,
   "metadata": {
    "collapsed": false
   },
   "outputs": [
    {
     "name": "stdout",
     "output_type": "stream",
     "text": [
      "14.696420969416847\n"
     ]
    }
   ],
   "source": [
    "from functools import reduce\n",
    "\n",
    "\n",
    "def decorator(*args):\n",
    "    def _decorator(cls):\n",
    "        def _func(self, other_values):\n",
    "            return reduce(args[0], map(lambda x: x ** args[1], [i[0] * i[1] for i in zip(self.values, other_values)]))\n",
    "        setattr(cls, 'func', _func)\n",
    "        return cls\n",
    "    return _decorator\n",
    "        \n",
    "\n",
    "@decorator(lambda x, y: x + y, 0.5)\n",
    "class Report:\n",
    "    \n",
    "    def __init__(self, values):\n",
    "        self.values = values\n",
    "        \n",
    "    def func(self, other_values):\n",
    "        pass\n",
    "    \n",
    "r = Report([1, 2, 3, 4])\n",
    "print(r.func([4, 5, 6, 7, 8]))"
   ]
  },
  {
   "cell_type": "markdown",
   "metadata": {},
   "source": [
    "|Punto| **Requerimientos**                                | **Puntaje** |\n",
    "|-----|----------------------------------------------|:-----------:|\n",
    "| A| Importar reduce correctamente|  **1 pto**  |\n",
    "| B| El decorador recibe sus parámetros correctamente   | **2 ptos**  |\n",
    "| C| La estructura del decorador es correcta   | **1 pto**  |\n",
    "| D| Se aplica reduce con la función correcta   | **3 ptos**  |\n",
    "| E| Se calcula el producto con `map` o lista por compresión correctamente   | **4 ptos**  |\n",
    "| F| Se maneja el largo de los iterables  | **3 ptos**  |\n",
    "| G| Se usa `setattr` para sobrescribir el método   | **1 ptos**  |\n",
    "|  | **Total** | **15** |\n",
    "\n",
    "| **Descuentos**                                | **Puntaje** |\n",
    "|---------------------------------------------------|:-----------:|\n",
    "| A) No decorar una clase   | **-5 ptos**  |\n",
    "| B) Usar ciclos   | **-5 ptos**  |"
   ]
  }
 ],
 "metadata": {
  "kernelspec": {
   "display_name": "Python 3",
   "language": "python",
   "name": "python3"
  },
  "language_info": {
   "codemirror_mode": {
    "name": "ipython",
    "version": 3
   },
   "file_extension": ".py",
   "mimetype": "text/x-python",
   "name": "python",
   "nbconvert_exporter": "python",
   "pygments_lexer": "ipython3",
   "version": "3.5.1"
  }
 },
 "nbformat": 4,
 "nbformat_minor": 0
}
