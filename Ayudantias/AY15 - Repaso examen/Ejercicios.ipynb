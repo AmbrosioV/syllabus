{
 "cells": [
  {
   "cell_type": "markdown",
   "metadata": {},
   "source": [
    "# Ejercicio 1\n",
    "El departamento de ciencia de la computación ha organizado una hackaton: durante 24 hrs grupos de hasta 5 personas deberán programar para crear una aplicación que ayude a los alumnos durante el período de exámenes. Finalizada la competencia un jurado va a elegir a las 3 mejores apps.\n",
    "\n",
    "Los equipos de máximo 5 personas deben inscribirse y hacer un resumen de su idea. Los grupos que tengan una idea que no se ajusta al tema, no podrán participar. La organización estima que cada grupo tiene una probabilidad del 10% de que esto ocurra. El lugar de la competencia puede tener hasta un máximo de 100 personas al mismo tiempo, por esta razón todas las ideas tendrán un puntaje. Si se llegan a inscribir más de 100 personas entonces se deberá usar el ranking de los puntajes de ideas para seleccionar equipos. \n",
    "\n",
    "Es probable que el día de la competencia varios grupos no se presenten. La organización estima que los grupos con las ideas de menor puntaje son los que tienen más chances de no asistir. \n",
    "\n",
    "Durante las 24 hrs que dura el evento los alumnos pueden comer, beber y dormir. Cada una de estas acciones tiene una frecuencia de ocurrencia de entre 1 y 4 hrs que es constante durante el evento y distinta para cada participante.\n",
    "\n",
    "Durate el evento la organización deberá darles comida y bebestibles, además deberá elegir y ambientar un lugar para que los que quieran puedan dormir. \n",
    "\n",
    "Realice una simulación que le permita a la organización decidir el lugar y la cantidad de comida a comprar."
   ]
  },
  {
   "cell_type": "markdown",
   "metadata": {},
   "source": [
    "Posible modelación, no está probado, así que puede tener errores."
   ]
  },
  {
   "cell_type": "code",
   "execution_count": null,
   "metadata": {
    "collapsed": false
   },
   "outputs": [],
   "source": [
    "import random\n",
    "from functools import reduce\n",
    "\n",
    "class Participante:\n",
    "    def __init__(self):\n",
    "        self.freq_comida = random.randint(1, 4)\n",
    "        self.freq_beber = random.randint(1, 4)\n",
    "        self.freq_dormir = random.randint(1, 4)\n",
    "        self.eventos = [self.freq_comida, self.freq_beber, self.freq_dormir]\n",
    "    \n",
    "    def get_next_evento(self, current_time):\n",
    "        index_max = -1\n",
    "        last_max = -1\n",
    "        for i, v in enumerate(self.eventos):\n",
    "            if v > last_max:\n",
    "                last_max = v\n",
    "                index_max = i\n",
    "        self.eventos[index_max] = current_time + last_max\n",
    "        return index_max\n",
    "\n",
    "class Grupo:\n",
    "    def __init__(self, partipante, idea):\n",
    "        self.participantes = participantes\n",
    "        self.idea = idea\n",
    "        \n",
    "    def __ge__(self, other):\n",
    "        return self.idea.puntaje > other.idea.puntaje\n",
    "    \n",
    "    def asistira(self):\n",
    "        return random.random() < self.idea.puntaje\n",
    "\n",
    "class Idea:\n",
    "    def __init__(self):\n",
    "        self.corresponde_al_tema = random.random() < 0.9\n",
    "        self.puntaje = 0\n",
    "        if self.corresponde_al_tema:\n",
    "            self.puntaje = random.random()\n",
    "\n",
    "class Organizacion:\n",
    "    def __init__(self, max_participantes):\n",
    "        self.grupos_inscritos = []\n",
    "        self.grupos_aceptados = []\n",
    "        self.max_participantes = max_participantes\n",
    "        self.pedidos_comida = 0\n",
    "        self.pedidos_bebestibles = 0\n",
    "        self.asistentes_que_duermen = 0\n",
    "        \n",
    "    def agregar_grupo(self, grupo):\n",
    "        if 0 < len(grupo.participantes) <= 5 :\n",
    "            self.grupos_inscritos.append(grupo)\n",
    "    \n",
    "    def revisar_inscripciones(self):\n",
    "        self.grupos_inscritos.sort()\n",
    "        self.grupos_aceptados = self.grupos_inscritos.copy()\n",
    "        while self.num_participantes(self.grupos_aceptados) > self.max_participantes:\n",
    "            self.grupos_aceptados.pop()\n",
    "        \n",
    "    def num_participantes(self, grupos):\n",
    "        return reduce(lambda x, y: len(x.participantes) + len(y.participantes), grupos)\n",
    "            \n",
    "    def run_evento(self):\n",
    "        # Simular el evento\n",
    "    "
   ]
  },
  {
   "cell_type": "markdown",
   "metadata": {},
   "source": [
    "# Ejercicio 2\n",
    "Escriba el output del siguiente código"
   ]
  },
  {
   "cell_type": "code",
   "execution_count": 1,
   "metadata": {
    "collapsed": false
   },
   "outputs": [],
   "source": [
    "def wa(ar):\n",
    "    def _x(f):\n",
    "        def _y(a, b):\n",
    "            r = list(map(ar, b))\n",
    "            print(r)\n",
    "            return f(a, r)\n",
    "        return _y\n",
    "    return _x\n",
    "            \n",
    "@wa(lambda x: x*x)\n",
    "def foo(a, b):\n",
    "    return list(map(a, b))\n",
    "@wa(lambda y: y/10)\n",
    "def bar(a, b):\n",
    "    return list(filter(a, b))"
   ]
  },
  {
   "cell_type": "code",
   "execution_count": 2,
   "metadata": {
    "collapsed": false
   },
   "outputs": [
    {
     "name": "stdout",
     "output_type": "stream",
     "text": [
      "[36, 49, 64, 81, 100]\n",
      "[3600, 4900, 6400, 8100, 10000]\n",
      "[0.1, 0.2, 0.3, 0.4, 0.5]\n",
      "[0.4, 0.5]\n"
     ]
    }
   ],
   "source": [
    "print(foo(lambda x: x*100, [6, 7, 8, 9, 10]))\n",
    "print(bar(lambda x: x > 0.3, [1, 2, 3, 4, 5]))"
   ]
  },
  {
   "cell_type": "code",
   "execution_count": null,
   "metadata": {
    "collapsed": true
   },
   "outputs": [],
   "source": []
  }
 ],
 "metadata": {
  "kernelspec": {
   "display_name": "Python 3",
   "language": "python",
   "name": "python3"
  },
  "language_info": {
   "codemirror_mode": {
    "name": "ipython",
    "version": 3
   },
   "file_extension": ".py",
   "mimetype": "text/x-python",
   "name": "python",
   "nbconvert_exporter": "python",
   "pygments_lexer": "ipython3",
   "version": "3.4.3"
  }
 },
 "nbformat": 4,
 "nbformat_minor": 0
}
